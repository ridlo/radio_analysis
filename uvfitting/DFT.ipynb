{
 "cells": [
  {
   "cell_type": "code",
   "execution_count": 6,
   "metadata": {
    "collapsed": true
   },
   "outputs": [],
   "source": [
    "import matplotlib.pyplot as plt\n",
    "%matplotlib inline"
   ]
  },
  {
   "cell_type": "code",
   "execution_count": 2,
   "metadata": {},
   "outputs": [],
   "source": [
    "# Discrete Fourier Transform (DFT)\n",
    "# FB - 20141227\n",
    "import random\n",
    "import math\n",
    "import cmath\n",
    "pi2 = cmath.pi * 2.0\n",
    "\n",
    "def DFT(fnList):\n",
    "    N = len(fnList)\n",
    "    FmList = []\n",
    "    for m in range(N):\n",
    "        Fm = 0.0\n",
    "        for n in range(N):\n",
    "            Fm += fnList[n] * cmath.exp(- 1j * pi2 * m * n / N)\n",
    "        FmList.append(Fm / N)\n",
    "    return FmList\n",
    "        \n",
    "def InverseDFT(FmList):\n",
    "    N = len(FmList)\n",
    "    fnList = []\n",
    "    for n in range(N):\n",
    "        fn = 0.0\n",
    "        for m in range(N):\n",
    "            fn += FmList[m] * cmath.exp(1j * pi2 * m * n / N)\n",
    "        fnList.append(fn)\n",
    "    return fnList\n",
    "\n"
   ]
  },
  {
   "cell_type": "code",
   "execution_count": 4,
   "metadata": {},
   "outputs": [
    {
     "name": "stdout",
     "output_type": "stream",
     "text": [
      "Input Sine Wave Signal:\n",
      "frequency = 18.0\n",
      "amplitude = 5.0\n",
      "phase ang = 306.0\n",
      "\n"
     ]
    }
   ],
   "source": [
    "# TEST\n",
    "print \"Input Sine Wave Signal:\"\n",
    "N = 360 # degrees (Number of samples)\n",
    "a = float(random.randint(1, 100))\n",
    "f = float(random.randint(1, 100))\n",
    "p = float(random.randint(0, 360))\n",
    "print \"frequency = \" + str(f)\n",
    "print \"amplitude = \" + str(a)\n",
    "print \"phase ang = \" + str(p)\n",
    "print\n",
    "fnList = []\n",
    "for n in range(N):\n",
    "    t = float(n) / N * pi2\n",
    "    fn = a * math.sin(f * t + p / 360 * pi2)\n",
    "    fnList.append(fn)"
   ]
  },
  {
   "cell_type": "code",
   "execution_count": 8,
   "metadata": {},
   "outputs": [
    {
     "data": {
      "text/plain": [
       "[<matplotlib.lines.Line2D at 0x7fcd4155f210>]"
      ]
     },
     "execution_count": 8,
     "metadata": {},
     "output_type": "execute_result"
    },
    {
     "data": {
      "image/png": "[encoded data removed]",
      "text/plain": [
       "<matplotlib.figure.Figure at 0x7fcd416101d0>"
      ]
     },
     "metadata": {},
     "output_type": "display_data"
    }
   ],
   "source": [
    "plt.plot(fnList, 'b.')"
   ]
  },
  {
   "cell_type": "code",
   "execution_count": 5,
   "metadata": {},
   "outputs": [
    {
     "name": "stdout",
     "output_type": "stream",
     "text": [
      "DFT Calculation Results:\n",
      "frequency = 18\n",
      "amplitude = 5.0\n",
      "phase ang = 306\n",
      "\n",
      "frequency = 342\n",
      "amplitude = 5.0\n",
      "phase ang = 234\n",
      "\n"
     ]
    }
   ],
   "source": [
    "print \"DFT Calculation Results:\"\n",
    "FmList = DFT(fnList)\n",
    "threshold = 0.001\n",
    "for (i, Fm) in enumerate(FmList):\n",
    "    if abs(Fm) > threshold:\n",
    "        print \"frequency = \" + str(i)\n",
    "        print \"amplitude = \" + str(abs(Fm) * 2.0)\n",
    "        p = int(((cmath.phase(Fm) + pi2 + pi2 / 4.0) % pi2) / pi2 * 360 + 0.5)\n",
    "        print \"phase ang = \" + str(p)\n",
    "        print"
   ]
  },
  {
   "cell_type": "code",
   "execution_count": null,
   "metadata": {
    "collapsed": true
   },
   "outputs": [],
   "source": []
  }
 ],
 "metadata": {
  "kernelspec": {
   "display_name": "Python 2",
   "language": "python",
   "name": "python2"
  },
  "language_info": {
   "codemirror_mode": {
    "name": "ipython",
    "version": 2
   },
   "file_extension": ".py",
   "mimetype": "text/x-python",
   "name": "python",
   "nbconvert_exporter": "python",
   "pygments_lexer": "ipython2",
   "version": "2.7.13"
  }
 },
 "nbformat": 4,
 "nbformat_minor": 2
}
