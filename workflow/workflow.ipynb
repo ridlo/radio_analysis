{
 "cells": [
  {
   "cell_type": "markdown",
   "metadata": {},
   "source": [
    "# Workflow\n",
    "\n",
    "---\n",
    "\n",
    "---\n",
    "\n",
    "**Select object and projects**\n",
    "1. Download database of calibrator from ALMA Source Catalogue: https://almascience.nrao.edu/sc/\n",
    "2. Run <pre>ALMAQueryCal.py</pre>\n",
    "    * select minimum flux \n",
    "    * select other criteria, e.g. public data, minimum time in a Band, 12m array, etc\n",
    "3. Get a list of object and related project (database & report)\n",
    "4. Check NED for alias, redshift, etc. Check https://ned.ipac.caltech.edu/forms/denv.html to see the environment (**manual**). We can also use <pre>galenv.py</pre>\n",
    "\n",
    "---\n",
    "\n",
    "**Get the data**\n",
    "1. For each object\n",
    "    + Select a project in a Band (sorted based on integration time)\n",
    "    + Generate download script of from http://almascience.nrao.edu/aq/ (**manual**)\n",
    "    + For each project\n",
    "        - Download the project\n",
    "            <pre>chmod +x downloadscript*.py</pre>\n",
    "            <pre>./downloadscript*.py</pre>\n",
    "\n",
    "        - Untar\n",
    "            <pre>python untar.py</pre>\n",
    "\n",
    "        - **Manual** inspection of \"member\" directory.\n",
    "        - Instead of running directly \"scriptForPI.py\". Solve some problems that may happen (tgz, casa_version, and pipeline problem) by running script <pre>python getms.py</pre>\n",
    "        - Get a calibrated data \"/calibrated\"\n",
    "\n",
    "---\n",
    "\n",
    "**Split and Manage**\n",
    "1. For each MS in /calibrated\n",
    "    + Split only the calibrator data \n",
    "    + Move to \"[object]/Band[Band]\" directory based on the data\n",
    "    + Write a report into database\n",
    "    + Remove other data\n",
    "\n",
    "---\n",
    "\n",
    "**Self-Calibration and UV-fitting (substraction)**\n",
    "\n",
    "\n",
    "---\n",
    "\n",
    "**Concatenation**\n",
    "1. Weighting problem\n",
    "2. Genetic Algorithm to find best weightscale\n",
    "    <pre>GAweighting.py</pre>\n",
    "\n",
    "---\n",
    "\n",
    "**Completeness Test**\n",
    "1. Run\n",
    "    <pre>completeness.py</pre>"
   ]
  },
  {
   "cell_type": "code",
   "execution_count": null,
   "metadata": {
    "collapsed": true
   },
   "outputs": [],
   "source": []
  }
 ],
 "metadata": {
  "kernelspec": {
   "display_name": "Python 2",
   "language": "python",
   "name": "python2"
  },
  "language_info": {
   "codemirror_mode": {
    "name": "ipython",
    "version": 2
   },
   "file_extension": ".py",
   "mimetype": "text/x-python",
   "name": "python",
   "nbconvert_exporter": "python",
   "pygments_lexer": "ipython2",
   "version": "2.7.13"
  }
 },
 "nbformat": 4,
 "nbformat_minor": 2
}
