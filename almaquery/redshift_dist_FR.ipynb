{
 "cells": [
  {
   "cell_type": "code",
   "execution_count": 2,
   "metadata": {
    "collapsed": true
   },
   "outputs": [],
   "source": [
    "import numpy as np\n",
    "import matplotlib\n",
    "import matplotlib.pyplot as plt\n",
    "import scipy\n",
    "\n",
    "%matplotlib inline"
   ]
  },
  {
   "cell_type": "markdown",
   "metadata": {},
   "source": [
    "### Title\n",
    "\n",
    "$$L = 4 \\pi R^2$$"
   ]
  },
  {
   "cell_type": "code",
   "execution_count": 3,
   "metadata": {
    "collapsed": true
   },
   "outputs": [],
   "source": [
    "ifile_fr1 = \"FR1.txt\"\n",
    "ifile_fr2 = \"FR2.txt\""
   ]
  },
  {
   "cell_type": "code",
   "execution_count": 4,
   "metadata": {
    "collapsed": false
   },
   "outputs": [],
   "source": [
    "dataFR1 = np.genfromtxt(ifile_fr1, delimiter=\"|\", dtype=None, skip_header=4)\n",
    "dataFR2 = np.genfromtxt(ifile_fr2, delimiter=\"|\", dtype=None, skip_header=4)"
   ]
  },
  {
   "cell_type": "code",
   "execution_count": 5,
   "metadata": {
    "collapsed": false
   },
   "outputs": [],
   "source": [
    "z1 = []\n",
    "z2 = []\n",
    "for i in dataFR1:\n",
    "    if not np.isnan(i[6]):\n",
    "        z1.append(i[6])\n",
    "        \n",
    "for i in dataFR2:\n",
    "    if not np.isnan(i[6]):\n",
    "        z2.append(i[6])"
   ]
  },
  {
   "cell_type": "markdown",
   "metadata": {},
   "source": [
    "### Unormalized"
   ]
  },
  {
   "cell_type": "code",
   "execution_count": 64,
   "metadata": {
    "collapsed": false
   },
   "outputs": [
    {
     "data": {
      "image/png": "[encoded data removed]",
      "text/plain": [
       "<matplotlib.figure.Figure at 0x7fbbbf8c3110>"
      ]
     },
     "metadata": {},
     "output_type": "display_data"
    }
   ],
   "source": [
    "n, bins, patches = plt.hist(z1, 50, normed=0, facecolor='green', alpha=0.75, histtype='stepfilled')\n",
    "n, bins, patches = plt.hist(z2, 50, normed=0, facecolor='red', alpha=0.25, histtype='stepfilled')"
   ]
  },
  {
   "cell_type": "markdown",
   "metadata": {},
   "source": [
    "### Normalized"
   ]
  },
  {
   "cell_type": "code",
   "execution_count": 63,
   "metadata": {
    "collapsed": false
   },
   "outputs": [
    {
     "data": {
      "image/png": "[encoded data removed]",
      "text/plain": [
       "<matplotlib.figure.Figure at 0x7fbbbf3913d0>"
      ]
     },
     "metadata": {},
     "output_type": "display_data"
    }
   ],
   "source": [
    "n, bins, patches = plt.hist(z1, 30, normed=1, facecolor='green', alpha=0.75, histtype='stepfilled')\n",
    "n, bins, patches = plt.hist(z2, 30, normed=1, facecolor='red', alpha=0.25, histtype='stepfilled')"
   ]
  },
  {
   "cell_type": "markdown",
   "metadata": {},
   "source": [
    "### Classified as FR1and2"
   ]
  },
  {
   "cell_type": "code",
   "execution_count": 6,
   "metadata": {
    "collapsed": false
   },
   "outputs": [],
   "source": [
    "ifile_fr12 = 'FR1or2.txt'\n",
    "dataFR12 = np.genfromtxt(ifile_fr12, delimiter=\"|\", dtype=None, skip_header=4)"
   ]
  },
  {
   "cell_type": "code",
   "execution_count": 7,
   "metadata": {
    "collapsed": false
   },
   "outputs": [],
   "source": [
    "z12 = []\n",
    "for i in dataFR12:\n",
    "    if not np.isnan(i[6]):\n",
    "        z12.append(i[6])"
   ]
  },
  {
   "cell_type": "code",
   "execution_count": 8,
   "metadata": {
    "collapsed": false
   },
   "outputs": [
    {
     "data": {
      "image/png": "[encoded data removed]",
      "text/plain": [
       "<matplotlib.figure.Figure at 0x7f8d9fb37dd0>"
      ]
     },
     "metadata": {},
     "output_type": "display_data"
    }
   ],
   "source": [
    "n, bins, patches = plt.hist(z1, 30, normed=1, facecolor='green', alpha=0.75, histtype='stepfilled')\n",
    "n, bins, patches = plt.hist(z2, 30, normed=1, facecolor='red', alpha=0.5, histtype='stepfilled')\n",
    "n, bins, patches = plt.hist(z12, 30, normed=1, facecolor='blue', alpha=0.25, histtype='stepfilled')"
   ]
  },
  {
   "cell_type": "code",
   "execution_count": 9,
   "metadata": {
    "collapsed": false
   },
   "outputs": [
    {
     "data": {
      "image/png": "[encoded data removed]",
      "text/plain": [
       "<matplotlib.figure.Figure at 0x7f8dc83ce750>"
      ]
     },
     "metadata": {},
     "output_type": "display_data"
    }
   ],
   "source": [
    "n, bins, patches = plt.hist(z1, 30, normed=0, facecolor='green', alpha=0.75, histtype='stepfilled')\n",
    "n, bins, patches = plt.hist(z2, 30, normed=0, facecolor='red', alpha=0.5, histtype='stepfilled')\n",
    "n, bins, patches = plt.hist(z12, 30, normed=0, facecolor='blue', alpha=0.25, histtype='stepfilled')"
   ]
  },
  {
   "cell_type": "code",
   "execution_count": null,
   "metadata": {
    "collapsed": true
   },
   "outputs": [],
   "source": []
  }
 ],
 "metadata": {
  "kernelspec": {
   "display_name": "Python 2",
   "language": "python",
   "name": "python2"
  },
  "language_info": {
   "codemirror_mode": {
    "name": "ipython",
    "version": 2
   },
   "file_extension": ".py",
   "mimetype": "text/x-python",
   "name": "python",
   "nbconvert_exporter": "python",
   "pygments_lexer": "ipython2",
   "version": "2.7.12"
  }
 },
 "nbformat": 4,
 "nbformat_minor": 0
}
