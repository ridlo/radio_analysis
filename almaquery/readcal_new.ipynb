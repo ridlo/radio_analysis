{
 "cells": [
  {
   "cell_type": "markdown",
   "metadata": {},
   "source": [
    "### Implement new code for the new structure in calibrator source list \n",
    "(slightly changes in RA and Dec representation)"
   ]
  },
  {
   "cell_type": "code",
   "execution_count": 1,
   "metadata": {
    "collapsed": true
   },
   "outputs": [],
   "source": [
    "from ALMAQueryCal import *\n",
    "\n",
    "%matplotlib inline"
   ]
  },
  {
   "cell_type": "code",
   "execution_count": 2,
   "metadata": {
    "collapsed": true
   },
   "outputs": [],
   "source": [
    "ifile = \"callist_20170329.list\""
   ]
  },
  {
   "cell_type": "code",
   "execution_count": 3,
   "metadata": {
    "collapsed": false
   },
   "outputs": [],
   "source": [
    "q       = queryCal(ifile, fluxrange = [0.95, 1.0])"
   ]
  },
  {
   "cell_type": "markdown",
   "metadata": {},
   "source": [
    "#### I add flux in listCal to check the flux filtering"
   ]
  },
  {
   "cell_type": "code",
   "execution_count": 4,
   "metadata": {
    "collapsed": false
   },
   "outputs": [
    {
     "data": {
      "text/plain": [
       "[['J2235-4835', 338.80515416666657, -48.59966527777778, 0.999],\n",
       " ['J2025-0735', 306.4194166666667, -7.597969166666666, 0.99],\n",
       " ['J0309+1029', 47.265095833333326, 10.4878725, 0.99],\n",
       " ['J0407+0742', 61.87119583333332, 7.702075833333334, 0.99],\n",
       " ['J1650-5044', 252.56927916666663, -50.746725, 0.98],\n",
       " ['J1058-8003', 164.68045833333332, -80.06504444444444, 0.98],\n",
       " ['J1923-2104', 290.8841249999999, -21.075925833333333, 0.98],\n",
       " ['J0217+0144', 34.45397916666666, 1.7471386111111111, 0.98],\n",
       " ['J0204-1701', 31.24030833333333, -17.022177777777777, 0.975],\n",
       " ['J2023+3153', 305.8292375, 31.88397388888889, 0.97],\n",
       " ['J0739+0137', 114.82514166666665, 1.6179494444444444, 0.97],\n",
       " ['J0448+1127', 72.21004999999998, 11.465103055555554, 0.97],\n",
       " ['J1329-5608', 202.25477083333328, -56.134073888888885, 0.97],\n",
       " ['J1550+0527', 237.64695416666663, 5.452902222222223, 0.97],\n",
       " ['J1809-4552', 272.49113333333327, -45.878059444444446, 0.969],\n",
       " ['J0116-1136', 19.052174999999995, -11.6042875, 0.965],\n",
       " ['J0313+4120', 48.258174999999994, 41.333661944444444, 0.962],\n",
       " ['J1326-5256', 201.7051208333333, -52.93989805555555, 0.96],\n",
       " ['J2056-4714', 314.0681666666666, -47.246563333333334, 0.96],\n",
       " ['J0253-5441', 43.37158333333333, -54.69762111111111, 0.957],\n",
       " ['J1222+0413', 185.59395833333332, 4.221048888888889, 0.957],\n",
       " ['J1254+1141', 193.65939999999998, 11.684970833333333, 0.955],\n",
       " ['J0424-3756', 66.17601666666667, -37.93910666666666, 0.954],\n",
       " ['J2109+3532', 317.38282916666657, 35.54933277777778, 0.951],\n",
       " ['J1224+2122', 186.2269083333333, 21.3795525, 0.951]]"
      ]
     },
     "execution_count": 4,
     "metadata": {},
     "output_type": "execute_result"
    }
   ],
   "source": [
    "q.listCal"
   ]
  },
  {
   "cell_type": "markdown",
   "metadata": {},
   "source": [
    "#### Safety for failed query"
   ]
  },
  {
   "cell_type": "code",
   "execution_count": 5,
   "metadata": {
    "collapsed": false
   },
   "outputs": [
    {
     "name": "stdout",
     "output_type": "stream",
     "text": [
      "['J0253-5441', 43.37158333333333, -54.69762111111111, 0.957]  query FAIL!\n"
     ]
    }
   ],
   "source": [
    "data    = q.queryAlma(q.listCal, public = True)"
   ]
  },
  {
   "cell_type": "markdown",
   "metadata": {},
   "source": [
    "### Check the result"
   ]
  },
  {
   "cell_type": "code",
   "execution_count": 6,
   "metadata": {
    "collapsed": false
   },
   "outputs": [
    {
     "data": {
      "text/plain": [
       "['J1650-5044', 252.56927916666663, -50.746725, 0.98]"
      ]
     },
     "execution_count": 6,
     "metadata": {},
     "output_type": "execute_result"
    }
   ],
   "source": [
    "data[4][0] # fifth calibrator in the listCal"
   ]
  },
  {
   "cell_type": "code",
   "execution_count": 7,
   "metadata": {
    "collapsed": false
   },
   "outputs": [
    {
     "data": {
      "text/html": [
       "<div>\n",
       "<table border=\"1\" class=\"dataframe\">\n",
       "  <thead>\n",
       "    <tr style=\"text-align: right;\">\n",
       "      <th></th>\n",
       "      <th>Project code</th>\n",
       "      <th>Source name</th>\n",
       "      <th>RA</th>\n",
       "      <th>Dec</th>\n",
       "      <th>Galactic longitude</th>\n",
       "      <th>Galactic latitude</th>\n",
       "      <th>Band</th>\n",
       "      <th>Spatial resolution</th>\n",
       "      <th>Frequency resolution</th>\n",
       "      <th>Array</th>\n",
       "      <th>...</th>\n",
       "      <th>Project title</th>\n",
       "      <th>Project type</th>\n",
       "      <th>Scan intent</th>\n",
       "      <th>Field of view</th>\n",
       "      <th>Largest angular scale</th>\n",
       "      <th>QA2 Status</th>\n",
       "      <th>Pub</th>\n",
       "      <th>Science keyword</th>\n",
       "      <th>Scientific category</th>\n",
       "      <th>ASA_PROJECT_CODE</th>\n",
       "    </tr>\n",
       "  </thead>\n",
       "  <tbody>\n",
       "    <tr>\n",
       "      <th>0</th>\n",
       "      <td>2012.1.00941.S</td>\n",
       "      <td>J1650-5044</td>\n",
       "      <td>252.56927916666663</td>\n",
       "      <td>-50.746725</td>\n",
       "      <td>336.1396133338911</td>\n",
       "      <td>-3.9599063716836076</td>\n",
       "      <td>7</td>\n",
       "      <td>0.15609749263398925</td>\n",
       "      <td>31250.0</td>\n",
       "      <td>12m</td>\n",
       "      <td>...</td>\n",
       "      <td>Mass Loss from Massive Stars I</td>\n",
       "      <td>S</td>\n",
       "      <td>BANDPASS WVR</td>\n",
       "      <td>18.26115671529038</td>\n",
       "      <td>2.4976374094620213</td>\n",
       "      <td>Y</td>\n",
       "      <td>0</td>\n",
       "      <td>Hypergiants, Evolved stars - Shaping/physical ...</td>\n",
       "      <td>Stars and stellar evolution</td>\n",
       "      <td>2012.1.00941.S</td>\n",
       "    </tr>\n",
       "    <tr>\n",
       "      <th>1</th>\n",
       "      <td>2012.1.00781.S</td>\n",
       "      <td>J1650-5044</td>\n",
       "      <td>252.56927916666663</td>\n",
       "      <td>-50.746725</td>\n",
       "      <td>336.1396133338911</td>\n",
       "      <td>-3.9599063716836076</td>\n",
       "      <td>7</td>\n",
       "      <td>0.36172994521978874</td>\n",
       "      <td>122.0703125</td>\n",
       "      <td>12m</td>\n",
       "      <td>...</td>\n",
       "      <td>IRAS 16272-4837: The birth of a massive protostar</td>\n",
       "      <td>S</td>\n",
       "      <td>BANDPASS PHASE WVR</td>\n",
       "      <td>18.706431829710382</td>\n",
       "      <td>3.3545132603918155</td>\n",
       "      <td>Y</td>\n",
       "      <td>1</td>\n",
       "      <td>Outflows, jets and ionized winds, High-mass st...</td>\n",
       "      <td>ISM and star formation</td>\n",
       "      <td>2012.1.00781.S</td>\n",
       "    </tr>\n",
       "    <tr>\n",
       "      <th>2</th>\n",
       "      <td>2012.1.00781.S</td>\n",
       "      <td>J1650-5044</td>\n",
       "      <td>252.56927916666666</td>\n",
       "      <td>-50.746725</td>\n",
       "      <td>336.1396133338911</td>\n",
       "      <td>-3.959906371683608</td>\n",
       "      <td>7</td>\n",
       "      <td>0.64249244251952242</td>\n",
       "      <td>122.0703125</td>\n",
       "      <td>12m</td>\n",
       "      <td>...</td>\n",
       "      <td>IRAS 16272-4837: The birth of a massive protostar</td>\n",
       "      <td>S</td>\n",
       "      <td>PHASE WVR</td>\n",
       "      <td>17.880239564895078</td>\n",
       "      <td>3.1346704295593346</td>\n",
       "      <td>Y</td>\n",
       "      <td>1</td>\n",
       "      <td>Outflows, jets and ionized winds, High-mass st...</td>\n",
       "      <td>ISM and star formation</td>\n",
       "      <td>2012.1.00781.S</td>\n",
       "    </tr>\n",
       "    <tr>\n",
       "      <th>3</th>\n",
       "      <td>2012.1.00781.S</td>\n",
       "      <td>J1650-5044</td>\n",
       "      <td>252.56927916666666</td>\n",
       "      <td>-50.746725</td>\n",
       "      <td>336.1396133338911</td>\n",
       "      <td>-3.959906371683608</td>\n",
       "      <td>7</td>\n",
       "      <td>3.7199406034172777</td>\n",
       "      <td>244.140625</td>\n",
       "      <td>7m</td>\n",
       "      <td>...</td>\n",
       "      <td>IRAS 16272-4837: The birth of a massive protostar</td>\n",
       "      <td>S</td>\n",
       "      <td>PHASE</td>\n",
       "      <td>18.706434105832646</td>\n",
       "      <td>15.051130409938944</td>\n",
       "      <td>Y</td>\n",
       "      <td>1</td>\n",
       "      <td>Outflows, jets and ionized winds, High-mass st...</td>\n",
       "      <td>ISM and star formation</td>\n",
       "      <td>2012.1.00781.S</td>\n",
       "    </tr>\n",
       "    <tr>\n",
       "      <th>4</th>\n",
       "      <td>2012.1.00463.S</td>\n",
       "      <td>J1650-5044</td>\n",
       "      <td>252.56927916666666</td>\n",
       "      <td>-50.746725</td>\n",
       "      <td>336.1396133338911</td>\n",
       "      <td>-3.959906371683608</td>\n",
       "      <td>6</td>\n",
       "      <td>0.33419292520600635</td>\n",
       "      <td>31250.0</td>\n",
       "      <td>12m</td>\n",
       "      <td>...</td>\n",
       "      <td>VVV-WIT-01: A Supernova in the Milky Way or an...</td>\n",
       "      <td>S</td>\n",
       "      <td>BANDPASS WVR</td>\n",
       "      <td>27.391304347826086</td>\n",
       "      <td>2.87476986143124</td>\n",
       "      <td>Y</td>\n",
       "      <td>1</td>\n",
       "      <td>Low-mass star formation, Pre-stellar cores, In...</td>\n",
       "      <td>ISM and star formation</td>\n",
       "      <td>2012.1.00463.S</td>\n",
       "    </tr>\n",
       "    <tr>\n",
       "      <th>5</th>\n",
       "      <td>2013.1.01193.S</td>\n",
       "      <td>J1650-5044</td>\n",
       "      <td>252.5692795833333</td>\n",
       "      <td>-50.74672513888889</td>\n",
       "      <td>336.1396133951607</td>\n",
       "      <td>-3.959906663339372</td>\n",
       "      <td>6</td>\n",
       "      <td>0.16043174298057941</td>\n",
       "      <td>1953.125</td>\n",
       "      <td>12m</td>\n",
       "      <td>...</td>\n",
       "      <td>Fragmentation in Hi-GAL clumps</td>\n",
       "      <td>S</td>\n",
       "      <td>PHASE WVR</td>\n",
       "      <td>27.55557125908508</td>\n",
       "      <td>0.8139271057571852</td>\n",
       "      <td>Y</td>\n",
       "      <td>0</td>\n",
       "      <td>High-mass star formation, Inter-Stellar Medium...</td>\n",
       "      <td>ISM and star formation</td>\n",
       "      <td>2013.1.01193.S</td>\n",
       "    </tr>\n",
       "    <tr>\n",
       "      <th>6</th>\n",
       "      <td>2013.1.00960.S</td>\n",
       "      <td>J1650-5044</td>\n",
       "      <td>252.5692795833333</td>\n",
       "      <td>-50.74672513888889</td>\n",
       "      <td>336.1396133951607</td>\n",
       "      <td>-3.959906663339372</td>\n",
       "      <td>7</td>\n",
       "      <td>0.17802002784198748</td>\n",
       "      <td>1953.125</td>\n",
       "      <td>12m</td>\n",
       "      <td>...</td>\n",
       "      <td>The first Galaxy-scale hunt for the earliest p...</td>\n",
       "      <td>S</td>\n",
       "      <td>PHASE WVR</td>\n",
       "      <td>18.460440170730323</td>\n",
       "      <td>0.9759269902065024</td>\n",
       "      <td>Y</td>\n",
       "      <td>1</td>\n",
       "      <td>High-mass star formation</td>\n",
       "      <td>ISM and star formation</td>\n",
       "      <td>2013.1.00960.S</td>\n",
       "    </tr>\n",
       "  </tbody>\n",
       "</table>\n",
       "<p>7 rows × 36 columns</p>\n",
       "</div>"
      ],
      "text/plain": [
       "     Project code Source name                  RA                 Dec  \\\n",
       "0  2012.1.00941.S  J1650-5044  252.56927916666663          -50.746725   \n",
       "1  2012.1.00781.S  J1650-5044  252.56927916666663          -50.746725   \n",
       "2  2012.1.00781.S  J1650-5044  252.56927916666666          -50.746725   \n",
       "3  2012.1.00781.S  J1650-5044  252.56927916666666          -50.746725   \n",
       "4  2012.1.00463.S  J1650-5044  252.56927916666666          -50.746725   \n",
       "5  2013.1.01193.S  J1650-5044   252.5692795833333  -50.74672513888889   \n",
       "6  2013.1.00960.S  J1650-5044   252.5692795833333  -50.74672513888889   \n",
       "\n",
       "  Galactic longitude    Galactic latitude Band   Spatial resolution  \\\n",
       "0  336.1396133338911  -3.9599063716836076    7  0.15609749263398925   \n",
       "1  336.1396133338911  -3.9599063716836076    7  0.36172994521978874   \n",
       "2  336.1396133338911   -3.959906371683608    7  0.64249244251952242   \n",
       "3  336.1396133338911   -3.959906371683608    7   3.7199406034172777   \n",
       "4  336.1396133338911   -3.959906371683608    6  0.33419292520600635   \n",
       "5  336.1396133951607   -3.959906663339372    6  0.16043174298057941   \n",
       "6  336.1396133951607   -3.959906663339372    7  0.17802002784198748   \n",
       "\n",
       "  Frequency resolution Array       ...         \\\n",
       "0              31250.0   12m       ...          \n",
       "1          122.0703125   12m       ...          \n",
       "2          122.0703125   12m       ...          \n",
       "3           244.140625    7m       ...          \n",
       "4              31250.0   12m       ...          \n",
       "5             1953.125   12m       ...          \n",
       "6             1953.125   12m       ...          \n",
       "\n",
       "                                       Project title Project type  \\\n",
       "0                     Mass Loss from Massive Stars I            S   \n",
       "1  IRAS 16272-4837: The birth of a massive protostar            S   \n",
       "2  IRAS 16272-4837: The birth of a massive protostar            S   \n",
       "3  IRAS 16272-4837: The birth of a massive protostar            S   \n",
       "4  VVV-WIT-01: A Supernova in the Milky Way or an...            S   \n",
       "5                     Fragmentation in Hi-GAL clumps            S   \n",
       "6  The first Galaxy-scale hunt for the earliest p...            S   \n",
       "\n",
       "          Scan intent       Field of view Largest angular scale QA2 Status  \\\n",
       "0        BANDPASS WVR   18.26115671529038    2.4976374094620213          Y   \n",
       "1  BANDPASS PHASE WVR  18.706431829710382    3.3545132603918155          Y   \n",
       "2           PHASE WVR  17.880239564895078    3.1346704295593346          Y   \n",
       "3               PHASE  18.706434105832646    15.051130409938944          Y   \n",
       "4        BANDPASS WVR  27.391304347826086      2.87476986143124          Y   \n",
       "5           PHASE WVR   27.55557125908508    0.8139271057571852          Y   \n",
       "6           PHASE WVR  18.460440170730323    0.9759269902065024          Y   \n",
       "\n",
       "  Pub                                    Science keyword  \\\n",
       "0   0  Hypergiants, Evolved stars - Shaping/physical ...   \n",
       "1   1  Outflows, jets and ionized winds, High-mass st...   \n",
       "2   1  Outflows, jets and ionized winds, High-mass st...   \n",
       "3   1  Outflows, jets and ionized winds, High-mass st...   \n",
       "4   1  Low-mass star formation, Pre-stellar cores, In...   \n",
       "5   0  High-mass star formation, Inter-Stellar Medium...   \n",
       "6   1                           High-mass star formation   \n",
       "\n",
       "           Scientific category ASA_PROJECT_CODE  \n",
       "0  Stars and stellar evolution   2012.1.00941.S  \n",
       "1       ISM and star formation   2012.1.00781.S  \n",
       "2       ISM and star formation   2012.1.00781.S  \n",
       "3       ISM and star formation   2012.1.00781.S  \n",
       "4       ISM and star formation   2012.1.00463.S  \n",
       "5       ISM and star formation   2013.1.01193.S  \n",
       "6       ISM and star formation   2013.1.00960.S  \n",
       "\n",
       "[7 rows x 36 columns]"
      ]
     },
     "execution_count": 7,
     "metadata": {},
     "output_type": "execute_result"
    }
   ],
   "source": [
    "data[4][1] # query result"
   ]
  },
  {
   "cell_type": "code",
   "execution_count": 8,
   "metadata": {
    "collapsed": false
   },
   "outputs": [
    {
     "data": {
      "text/plain": [
       "0      604.8\n",
       "1    2449.44\n",
       "2     544.32\n",
       "3    1693.44\n",
       "4     362.88\n",
       "5     181.44\n",
       "6     272.16\n",
       "Name: Integration, dtype: object"
      ]
     },
     "execution_count": 8,
     "metadata": {},
     "output_type": "execute_result"
    }
   ],
   "source": [
    "data[4][1]['Integration']"
   ]
  },
  {
   "cell_type": "code",
   "execution_count": 9,
   "metadata": {
    "collapsed": false
   },
   "outputs": [
    {
     "data": {
      "text/plain": [
       "0        31250.0\n",
       "1    122.0703125\n",
       "2    122.0703125\n",
       "3     244.140625\n",
       "4        31250.0\n",
       "5       1953.125\n",
       "6       1953.125\n",
       "Name: Frequency resolution, dtype: object"
      ]
     },
     "execution_count": 9,
     "metadata": {},
     "output_type": "execute_result"
    }
   ],
   "source": [
    "data[4][1]['Frequency resolution']"
   ]
  },
  {
   "cell_type": "markdown",
   "metadata": {},
   "source": [
    "### Select the calibrator\n",
    "\n",
    "Polarization included in the report \n",
    "\n",
    "verbose = True"
   ]
  },
  {
   "cell_type": "code",
   "execution_count": 10,
   "metadata": {
    "collapsed": false,
    "scrolled": false
   },
   "outputs": [],
   "source": [
    "report  = q.selectDeepField(data, minTimeBand = {3:500., 6:100., 7:1000.}, maxFreqRes = 1000.0, verbose = True)"
   ]
  },
  {
   "cell_type": "code",
   "execution_count": 11,
   "metadata": {
    "collapsed": false,
    "scrolled": false
   },
   "outputs": [
    {
     "name": "stdout",
     "output_type": "stream",
     "text": [
      "#### Source : J2056-4714 #####\n",
      "#### Coord. 2000: 314.068167  -47.246563 \n",
      "\n",
      "## 2011.0.00099.S        J205615-471445  Band:3  obsdate:2012-05-05 10:55:19  FreqRes:976.5625  Res:1.2771503126699961  Pol:XX YY    asdm:uid://A002/X3f99b1/X3ec\n",
      "## 2011.0.00020.S             J2056-472  Band:7  obsdate:2012-06-01 10:06:09  FreqRes:976.5625  Res:0.46354449635967648  Pol:XX YY    asdm:uid://A002/X41b513/X121\n",
      "## 2011.0.00020.S             J2056-472  Band:7  obsdate:2012-06-02 07:23:32  FreqRes:976.5625  Res:0.4403817044671664  Pol:XX YY    asdm:uid://A002/X41c27b/X4f5\n",
      "## 2012.1.00423.S            J2056-4714  Band:3  obsdate:2013-11-05 22:15:53  FreqRes:976.5625  Res:1.0881229647789707  Pol:XX YY    asdm:uid://A002/X71e4ae/X184\n",
      "## 2012.1.00437.S            J2056-4714  Band:6  obsdate:2013-11-17 22:33:33  FreqRes:488.28125  Res:0.43429986523240427  Pol:XX YY    asdm:uid://A002/X7310ce/X1e7\n",
      "## 2012.1.00293.S             J2056-472  Band:3  obsdate:2014-03-23 10:56:30  FreqRes:976.5625  Res:1.7986537644346947  Pol:XX YY    asdm:uid://A002/X7d44e7/X1f08\n",
      "## 2012.1.00208.S            J2056-4714  Band:3  obsdate:2014-04-03 10:57:19  FreqRes:244.140625  Res:1.5786386640650019  Pol:XX YY    asdm:uid://A002/X7e4988/X1679\n",
      "## 2013.1.00523.S             J2056-472  Band:6  obsdate:2014-06-04 10:21:52  FreqRes:488.28125  Res:0.49708541571576204  Pol:XX YY    asdm:uid://A002/X835491/Xcb0\n",
      "## 2013.1.00523.S            J2056-4714  Band:6  obsdate:2014-06-04 10:21:52  FreqRes:488.28125  Res:0.4977991171404329  Pol:XX YY    asdm:uid://A002/X835491/Xcb0\n",
      "## 2012.1.00683.S            J2056-4714  Band:6  obsdate:2013-12-17 21:08:08  FreqRes:488.28125  Res:5.9153243596747442  Pol:XX YY    asdm:uid://A002/X760eb8/X96\n",
      "## 2013.1.00659.S            J2056-4714  Band:3  obsdate:2014-06-09 09:25:29  FreqRes:976.5625  Res:1.1223469950218672  Pol:XX YY    asdm:uid://A002/X83b318/Xcda\n",
      "## 2013.1.00229.S             J2056-472  Band:6  obsdate:2014-09-01 03:16:53  FreqRes:976.5625  Res:0.27110332604368181  Pol:XX YY    asdm:uid://A002/X8a838f/X507\n",
      "## 2013.1.00229.S            J2056-4714  Band:6  obsdate:2014-09-01 03:16:53  FreqRes:976.5625  Res:0.27110332604830772  Pol:XX YY    asdm:uid://A002/X8a838f/X507\n",
      "## 2013.1.00033.S             J2056-472  Band:6  obsdate:2014-05-01 11:19:09  FreqRes:976.5625  Res:0.43018736687779535  Pol:XX YY    asdm:uid://A002/X8045ee/X2ca\n",
      "## 2013.1.00033.S            J2056-4714  Band:6  obsdate:2014-05-01 11:19:09  FreqRes:976.5625  Res:0.43018736684809888  Pol:XX YY    asdm:uid://A002/X8045ee/X2ca\n",
      "## 2013.1.00033.S             J2056-472  Band:6  obsdate:2014-05-01 12:18:11  FreqRes:976.5625  Res:0.46216614589951022  Pol:XX YY    asdm:uid://A002/X8045ee/X4d3\n",
      "## 2013.1.00033.S            J2056-4714  Band:6  obsdate:2014-05-01 12:18:11  FreqRes:976.5625  Res:0.46216614583882387  Pol:XX YY    asdm:uid://A002/X8045ee/X4d3\n",
      "## 2013.1.00033.S            J2056-4714  Band:7  obsdate:2014-06-08 05:22:13  FreqRes:976.5625  Res:0.3837878089189351  Pol:XX YY    asdm:uid://A002/X839000/X1b69\n",
      "## 2013.1.00033.S             J2056-472  Band:7  obsdate:2014-06-08 06:08:06  FreqRes:976.5625  Res:0.35835052625442565  Pol:XX YY    asdm:uid://A002/X839000/X1d7a\n",
      "## 2013.1.00033.S            J2056-4714  Band:7  obsdate:2014-06-08 06:08:06  FreqRes:976.5625  Res:0.33719862599976269  Pol:XX YY    asdm:uid://A002/X839000/X1d7a\n",
      "## 2012.1.00198.S             J2056-472  Band:6  obsdate:2014-08-18 03:47:50  FreqRes:976.5625  Res:0.27168582077772924  Pol:XX YY    asdm:uid://A002/X899169/X1517\n",
      "## 2013.1.01147.S            J2056-4714  Band:6  obsdate:2015-07-24 03:17:05  FreqRes:30.517578125  Res:0.24550475240939384  Pol:XX YY    asdm:uid://A002/Xa68906/X1590\n",
      "## 2013.1.00025.S             J2056-472  Band:7  obsdate:2015-08-18 03:38:38  FreqRes:976.5625  Res:0.13913678077764108  Pol:XX YY    asdm:uid://A002/Xa8666f/Xa57\n",
      "## 2012.1.00524.S            J2056-4714  Band:7  obsdate:2015-04-09 11:16:27  FreqRes:976.5625  Res:0.69201855313522831  Pol:XX YY    asdm:uid://A002/X9db5ce/X3544\n",
      "## 2013.1.01147.S            J2056-4714  Band:6  obsdate:2015-07-23 05:46:16  FreqRes:30.517578125  Res:0.22461582562991145  Pol:XX YY    asdm:uid://A002/Xa66f35/X1dee\n",
      "## 2015.1.00466.S            J2056-4714  Band:6  obsdate:2015-11-08 00:40:51  FreqRes:976.5625  Res:0.026846250226578779  Pol:XX YY    asdm:uid://A002/Xac97ce/X118f\n",
      "## 2015.1.00466.S            J2056-4714  Band:6  obsdate:2015-11-10 00:25:50  FreqRes:976.5625  Res:0.026231795318488561  Pol:XX YY    asdm:uid://A002/Xacaa68/X217\n",
      "\n",
      "Time Band 3 :   3599s (1.0h) \n",
      "Time Band 6 :   5443s (1.5h) \n",
      "Time Band 7 :   3508s (1.0h) \n",
      "\n",
      " Project codes: \n",
      " 2011.0.00099.S  2011.0.00020.S  2012.1.00423.S  2012.1.00437.S  2012.1.00293.S  2012.1.00208.S  2013.1.00523.S  2012.1.00683.S  2013.1.00659.S  2013.1.00229.S  2013.1.00033.S  2012.1.00198.S  2013.1.01147.S  2013.1.00025.S  2012.1.00524.S  2015.1.00466.S \n",
      "\n",
      "Total uids: 52 \n",
      "\n",
      "\n",
      "#### Source : J1550+0527 #####\n",
      "#### Coord. 2000: 237.646954  5.452902 \n",
      "\n",
      "## 2012.1.00453.S            J1550+0527  Band:7  obsdate:2014-04-27 05:25:59  FreqRes:976.5625  Res:0.38227248140292019  Pol:XX YY    asdm:uid://A002/X7fc9da/X3b80\n",
      "## 2012.1.00453.S            J1550+0527  Band:7  obsdate:2014-04-28 05:31:05  FreqRes:976.5625  Res:0.41435640605757496  Pol:XX YY    asdm:uid://A002/X7fffd6/X867\n",
      "## 2012.1.00453.S            J1550+0527  Band:7  obsdate:2014-04-28 06:11:31  FreqRes:976.5625  Res:0.3637154533124855  Pol:XX YY    asdm:uid://A002/X7fffd6/X9e8\n",
      "## 2012.1.00196.S            J1550+0527  Band:7  obsdate:2014-03-11 10:32:06  FreqRes:244.140625  Res:0.63461380692014546  Pol:XX YY    asdm:uid://A002/X7c6ce6/X163f\n",
      "## 2012.1.00453.S            J1550+0527  Band:7  obsdate:2014-05-27 04:17:39  FreqRes:976.5625  Res:0.3750015779683068  Pol:XX YY    asdm:uid://A002/X829c4c/X3db\n",
      "## 2012.1.00453.S            J1550+0527  Band:6  obsdate:2014-07-08 00:36:59  FreqRes:976.5625  Res:0.42272935940865347  Pol:XX YY    asdm:uid://A002/X864236/X957\n",
      "## 2012.1.00453.S            J1550+0527  Band:6  obsdate:2014-07-20 23:29:39  FreqRes:976.5625  Res:0.44664127400532533  Pol:XX YY    asdm:uid://A002/X87544a/X1545\n",
      "## 2012.1.00453.S            J1550+0527  Band:6  obsdate:2014-07-08 00:00:47  FreqRes:976.5625  Res:0.44548428785477856  Pol:XX YY    asdm:uid://A002/X864236/X69b\n",
      "## 2012.1.00453.S            J1550+0527  Band:6  obsdate:2014-07-07 23:38:09  FreqRes:976.5625  Res:0.46951509516797324  Pol:XX YY    asdm:uid://A002/X864236/X4d0\n",
      "## 2012.1.00453.S            J1550+0527  Band:6  obsdate:2014-07-20 23:02:25  FreqRes:976.5625  Res:0.48408289099371637  Pol:XX YY    asdm:uid://A002/X87544a/X13f5\n",
      "## 2012.1.00453.S            J1550+0527  Band:6  obsdate:2014-07-20 22:35:26  FreqRes:976.5625  Res:0.51806811495373684  Pol:XX YY    asdm:uid://A002/X87544a/X12c8\n",
      "## 2012.1.00698.S            J1550+0527  Band:7  obsdate:2014-05-21 04:55:06  FreqRes:976.5625  Res:0.37318033854396543  Pol:XX YY    asdm:uid://A002/X8254f0/X874\n",
      "## 2012.1.00769.S            J1550+0527  Band:6  obsdate:2014-01-23 11:24:34  FreqRes:122.0703125  Res:5.386195518395243  Pol:XX YY    asdm:uid://A002/X7955bb/Xc75\n",
      "## 2012.1.00539.S            J1550+0527  Band:3  obsdate:2014-06-29 01:35:06  FreqRes:976.5625  Res:1.126329661300552  Pol:XX YY    asdm:uid://A002/X856bb8/X1eda\n",
      "## 2012.1.00539.S            J1550+0527  Band:3  obsdate:2014-07-04 03:11:17  FreqRes:976.5625  Res:0.69591661329207244  Pol:XX YY    asdm:uid://A002/X85f3e3/Xdb\n",
      "## 2012.1.00539.S             J1550+054  Band:3  obsdate:2014-07-04 03:11:17  FreqRes:976.5625  Res:1.3301722205964954  Pol:XX YY    asdm:uid://A002/X85f3e3/Xdb\n",
      "## 2013.1.00824.S            J1550+0527  Band:7  obsdate:2014-12-31 11:16:53  FreqRes:976.5625  Res:0.90034189739268378  Pol:XX YY    asdm:uid://A002/X985fa5/X3326\n",
      "## 2013.1.00618.S            J1550+0527  Band:6  obsdate:2015-01-29 10:51:39  FreqRes:244.140625  Res:1.1456673325324696  Pol:XX YY    asdm:uid://A002/X9aa6ef/X15a1\n",
      "## 2012.1.00453.S            J1550+0527  Band:6  obsdate:2015-06-04 01:22:37  FreqRes:976.5625  Res:0.56532762856551855  Pol:XX YY    asdm:uid://A002/Xa2300a/X6f4\n",
      "## 2012.1.00317.S             J1550+054  Band:9  obsdate:2015-06-09 02:05:28  FreqRes:976.5625  Res:0.16202609473910506  Pol:XX YY    asdm:uid://A002/Xa2d681/Xee4\n",
      "## 2012.1.00317.S            J1550+0527  Band:9  obsdate:2015-06-09 02:05:28  FreqRes:976.5625  Res:0.15899449479057967  Pol:XX YY    asdm:uid://A002/Xa2d681/Xee4\n",
      "## 2013.1.00824.S            J1550+0527  Band:7  obsdate:2015-04-09 04:45:22  FreqRes:976.5625  Res:0.86364012745286223  Pol:XX YY    asdm:uid://A002/X9db5ce/X1dd1\n",
      "## 2012.1.00317.S             J1550+054  Band:9  obsdate:2015-06-09 01:04:07  FreqRes:976.5625  Res:0.17756489293705796  Pol:XX YY    asdm:uid://A002/Xa2d681/Xc4a\n",
      "## 2012.1.00317.S            J1550+0527  Band:9  obsdate:2014-07-26 01:18:42  FreqRes:976.5625  Res:0.16748461125412503  Pol:XX YY    asdm:uid://A002/X87b480/X656\n",
      "## 2012.1.00453.S            J1550+0527  Band:6  obsdate:2015-06-04 02:10:02  FreqRes:976.5625  Res:0.51770873164871711  Pol:XX YY    asdm:uid://A002/Xa2300a/Xa8a\n",
      "## 2012.1.00317.S             J1550+054  Band:7  obsdate:2015-06-28 02:19:43  FreqRes:976.5625  Res:0.14677343548566071  Pol:XX YY    asdm:uid://A002/Xa45c3f/X34d5\n",
      "## 2012.1.00317.S             J1550+054  Band:7  obsdate:2015-06-28 01:30:52  FreqRes:976.5625  Res:0.14743356481424449  Pol:XX YY    asdm:uid://A002/Xa45c3f/X3382\n",
      "## 2012.1.00317.S             J1550+054  Band:7  obsdate:2015-07-17 00:12:32  FreqRes:976.5625  Res:0.14705990408078096  Pol:XX YY    asdm:uid://A002/Xa5c7d4/Xcea\n",
      "## 2012.1.00317.S            J1550+0527  Band:6  obsdate:2015-06-30 01:20:23  FreqRes:976.5625  Res:0.21487378775806881  Pol:XX YY    asdm:uid://A002/Xa4b3e9/Xd5c\n",
      "## 2012.1.00453.S            J1550+0527  Band:6  obsdate:2015-05-13 03:41:19  FreqRes:976.5625  Res:0.54122718459984076  Pol:XX YY    asdm:uid://A002/Xa055bc/X8e3\n",
      "## 2013.1.00115.S            J1550+0527  Band:3  obsdate:2015-05-25 02:43:27  FreqRes:976.5625  Res:1.3339373924986622  Pol:XX YY    asdm:uid://A002/Xa18feb/Xc9a\n",
      "## 2013.1.00115.S            J1550+0527  Band:3  obsdate:2015-05-25 05:08:22  FreqRes:976.5625  Res:1.2865816901956786  Pol:XX YY    asdm:uid://A002/Xa18feb/X135b\n",
      "## 2012.1.00317.S             J1550+054  Band:7  obsdate:2015-06-27 01:54:36  FreqRes:976.5625  Res:0.14779147779146887  Pol:XX YY    asdm:uid://A002/Xa45c3f/X86b\n",
      "## 2013.1.00115.S            J1550+0527  Band:3  obsdate:2015-05-25 03:26:51  FreqRes:976.5625  Res:1.2447058023478714  Pol:XX YY    asdm:uid://A002/Xa18feb/Xefd\n",
      "## 2013.1.00883.S             J1550+054  Band:3  obsdate:2015-08-08 20:37:16  FreqRes:61.03515625  Res:0.61834617927352131  Pol:XX YY    asdm:uid://A002/Xa7b91c/X15c\n",
      "## 2013.1.00883.S            J1550+0527  Band:3  obsdate:2015-08-07 00:48:28  FreqRes:61.03515625  Res:0.53084768851264907  Pol:XX YY    asdm:uid://A002/Xa78e41/X50d\n",
      "## 2012.1.00317.S            J1550+0527  Band:6  obsdate:2015-06-27 03:26:53  FreqRes:976.5625  Res:0.2055103648566784  Pol:XX YY    asdm:uid://A002/Xa45c3f/Xb22\n",
      "## 2012.1.00317.S            J1550+0527  Band:6  obsdate:2015-06-27 02:49:19  FreqRes:976.5625  Res:0.24371768590601592  Pol:XX YY    asdm:uid://A002/Xa45c3f/Xa28\n",
      "## 2012.1.00317.S            J1550+0527  Band:6  obsdate:2015-06-30 01:53:15  FreqRes:976.5625  Res:0.20200787686375074  Pol:XX YY    asdm:uid://A002/Xa4b3e9/Xf3e\n",
      "## 2012.1.00317.S            J1550+0527  Band:9  obsdate:2015-07-27 00:57:32  FreqRes:976.5625  Res:0.081240987772302584  Pol:XX YY    asdm:uid://A002/Xa6c1df/X5544\n",
      "## 2015.1.01602.S            J1550+0527  Band:3  obsdate:2015-10-31 17:07:51  FreqRes:976.5625  Res:0.053413878827565479  Pol:XX YY    asdm:uid://A002/Xac5575/X3569\n",
      "## 2015.1.01602.S            J1550+0527  Band:3  obsdate:2015-10-31 16:09:08  FreqRes:976.5625  Res:0.056200119272961542  Pol:XX YY    asdm:uid://A002/Xac5575/X340e\n",
      "\n",
      "Time Band 3 :   3538s (1.0h) \n",
      "Time Band 6 :   5866s (1.6h) \n",
      "Time Band 7 :   7197s (2.0h) \n",
      "Time Band 9 :   2117s (0.6h) \n",
      "\n",
      " Project codes: \n",
      " 2012.1.00453.S  2012.1.00196.S  2012.1.00698.S  2012.1.00769.S  2012.1.00539.S  2013.1.00824.S  2013.1.00618.S  2012.1.00317.S  2013.1.00115.S  2013.1.00883.S  2015.1.01602.S \n",
      "\n",
      "Total uids: 87 \n",
      "\n",
      "\n",
      "#################################\n",
      "### Total Number of Sources : 2 \n",
      "\n"
     ]
    }
   ],
   "source": [
    "q.writeReport(report, file = ifile+\".report\")"
   ]
  },
  {
   "cell_type": "code",
   "execution_count": null,
   "metadata": {
    "collapsed": true
   },
   "outputs": [],
   "source": []
  }
 ],
 "metadata": {
  "kernelspec": {
   "display_name": "Python 2",
   "language": "python",
   "name": "python2"
  },
  "language_info": {
   "codemirror_mode": {
    "name": "ipython",
    "version": 2
   },
   "file_extension": ".py",
   "mimetype": "text/x-python",
   "name": "python",
   "nbconvert_exporter": "python",
   "pygments_lexer": "ipython2",
   "version": "2.7.12"
  }
 },
 "nbformat": 4,
 "nbformat_minor": 0
}
